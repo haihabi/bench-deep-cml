{
 "cells": [
  {
   "cell_type": "code",
   "id": "initial_id",
   "metadata": {
    "collapsed": true,
    "ExecuteTime": {
     "end_time": "2025-09-23T09:51:02.679848Z",
     "start_time": "2025-09-23T09:51:02.677813Z"
    }
   },
   "source": [
    "import os\n",
    "import sys\n",
    "for submodule_name in ['PyNNcml',\"pycomlink\"]:\n",
    "    sys.path.append(os.path.join(os.getcwd(), submodule_name))"
   ],
   "outputs": [],
   "execution_count": 6
  },
  {
   "metadata": {
    "ExecuteTime": {
     "end_time": "2025-09-23T09:52:03.262199Z",
     "start_time": "2025-09-23T09:52:03.260595Z"
    }
   },
   "cell_type": "code",
   "source": [
    "import pynncml\n",
    "import pycomlink\n",
    "import poligrain as plg"
   ],
   "id": "f9a4de0fc1c365fb",
   "outputs": [],
   "execution_count": 10
  },
  {
   "metadata": {
    "ExecuteTime": {
     "end_time": "2025-09-23T09:52:08.830646Z",
     "start_time": "2025-09-23T09:52:04.907255Z"
    }
   },
   "cell_type": "code",
   "source": [
    "\n",
    "(\n",
    "    ds_rad,\n",
    "    ds_cmls,\n",
    "    ds_gauges_municp,\n",
    "    ds_gauge_smhi,\n",
    ") = plg.example_data.load_openmrg(data_dir=\"example_data\", subset=\"8d\")"
   ],
   "id": "da7307f539b708",
   "outputs": [],
   "execution_count": 11
  }
 ],
 "metadata": {
  "kernelspec": {
   "display_name": "Python 3",
   "language": "python",
   "name": "python3"
  },
  "language_info": {
   "codemirror_mode": {
    "name": "ipython",
    "version": 2
   },
   "file_extension": ".py",
   "mimetype": "text/x-python",
   "name": "python",
   "nbconvert_exporter": "python",
   "pygments_lexer": "ipython2",
   "version": "2.7.6"
  }
 },
 "nbformat": 4,
 "nbformat_minor": 5
}
